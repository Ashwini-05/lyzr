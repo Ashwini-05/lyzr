{
 "cells": [
  {
   "cell_type": "code",
   "execution_count": 2,
   "metadata": {},
   "outputs": [],
   "source": [
    "from lyzr import Generator\n",
    "import pandas as pd\n",
    "import os\n",
    "\n",
    "os.environ['OPENAI_API_KEY'] = \"sk-\"\n",
    "df = pd.read_csv('data.csv')"
   ]
  },
  {
   "cell_type": "code",
   "execution_count": 2,
   "metadata": {},
   "outputs": [
    {
     "name": "stdout",
     "output_type": "stream",
     "text": [
      "The given dataset contains information about used cars, including their price, make, model, year of manufacture, mileage, engine capacity, transmission type, drive type, hand drive type, and fuel type. The dataset consists of five rows and eleven columns.\n",
      "\n",
      "The \"price\" column represents the selling price of the car in a particular currency. The \"mark\" column indicates the brand or manufacturer of the car. The \"model\" column specifies the specific model name of each car. The \"year\" column denotes the year in which the car was manufactured.\n",
      "\n",
      "The \"mileage\" column provides information about the total distance traveled by each car in kilometers. The \"engine_capacity\" column represents the engine capacity or size of each car's engine in cubic centimeters (cc).\n",
      "\n",
      "The \"transmission\" column indicates whether the car has an automatic (at) or manual (mt) transmission. The \"drive\" column specifies whether the car is a two-wheel drive (2wd) or four-wheel drive (4wd). The \"hand_drive\" column denotes whether the car has right-hand drive (rhd) or left-hand drive (lhd).\n",
      "\n",
      "Lastly, the \"fuel\" column describes the type of fuel used by each car, such as gasoline or diesel.\n",
      "\n",
      "This dataset can be useful for analyzing various aspects related to used cars such as pricing trends based on different factors like make, model, year of manufacture etc., understanding preferences for transmission and drive types among buyers and exploring patterns related to fuel usage.\n",
      "\n",
      "Overall, this dataset provides valuable insights into key attributes that influence used car prices and can help businesses make informed decisions regarding pricing strategies and inventory management.\n"
     ]
    }
   ],
   "source": [
    "gen = Generator(df=df, user_input=\"\")\n",
    "dataset_description = gen.describe_dataset()\n",
    "print(dataset_description)"
   ]
  },
  {
   "cell_type": "code",
   "execution_count": 3,
   "metadata": {},
   "outputs": [
    {
     "name": "stdout",
     "output_type": "stream",
     "text": [
      "Exploratory Analysis:\n",
      "1. What is the average price of used cars in the dataset?\n",
      "2. How many different car brands are present in the dataset?\n",
      "3. What is the most common transmission type among used cars?\n",
      "4. What is the distribution of mileage for the used cars?\n",
      "5. How many left-hand drive (LHD) vehicles are there in the dataset?\n",
      "\n",
      "Regression Analysis:\n",
      "6. Can we predict the price of a used car based on its mileage and engine capacity?\n",
      "7. Is there a relationship between the year of manufacture and the price of a used car?\n",
      "\n",
      "Correlation Analysis:\n",
      "8. Is there a correlation between mileage and price for used cars?\n",
      "9. Is there a correlation between engine capacity and price for used cars?\n",
      "\n",
      "Clustering Analysis:\n",
      "10. Can we cluster the used cars based on their brand, model, and transmission type?\n",
      "11. Are there any distinct clusters based on fuel type, drive type, and hand drive position?\n",
      "\n",
      "Time Series Analysis:\n",
      "12. How has the average price of used cars changed over time?\n",
      "13. Is there any seasonality pattern in terms of sales volume based on year or month?\n",
      "\n",
      "Exploratory Analysis:\n",
      "14.What is the maximum price among all used cars in this dataset? \n",
      "15.How many 4-wheel drive (4wd) vehicles are present in this dataset? \n",
      "16.What is the average engine capacity among all these vehicles? \n",
      "17.How many different models are present in this dataset? \n",
      "18.What is the most common fuel type among these vehicles? \n",
      "\n",
      "Regression Analysis: \n",
      "19.Can we predict engine capacity based on mileage using regression analysis? \n",
      "20.Is there any relationship between transmission type and mileage travelled by each vehicle?\n"
     ]
    }
   ],
   "source": [
    "queries = gen.ai_queries_df()\n",
    "print(queries)"
   ]
  },
  {
   "cell_type": "code",
   "execution_count": 3,
   "metadata": {},
   "outputs": [
    {
     "name": "stdout",
     "output_type": "stream",
     "text": [
      "- There is a positive correlation between car price and year, indicating that newer cars tend to have higher prices. The correlation coefficient is 0.23.\n",
      "- There is a positive correlation between car price and mileage, suggesting that cars with lower mileage tend to have higher prices. The correlation coefficient is 0.30.\n",
      "- There is a positive correlation between car price and engine capacity, indicating that cars with larger engine capacities tend to have higher prices. The correlation coefficient is 0.20.\n"
     ]
    }
   ],
   "source": [
    "#Sample Analysis Output\n",
    "analysis_output = ''' \n",
    "Correlation Matrix:\n",
    "                    price      year   mileage  engine_capacity\n",
    "price            1.000000  0.225276  0.303421         0.196784\n",
    "year             0.225276  1.000000  0.096152         0.036085\n",
    "mileage          0.303421  0.096152  1.000000         0.345963\n",
    "engine_capacity  0.196784  0.036085  0.345963         1.000000\n",
    "\n",
    "Correlation between Price and Year: 0.23\n",
    "Correlation between Price and Mileage: 0.30\n",
    "Correlation between Price and Engine Capacity: 0.20\n",
    "'''\n",
    "\n",
    "user_input = \"Conduct correlation analysis to identify links between car price and numeric variables (year, mileage, engine capacity), revealing potential price influencers\"\n",
    "\n",
    "gen = Generator(user_input=user_input, df=df)\n",
    "insights = gen.insights(analysis_output=analysis_output)\n",
    "print(insights)"
   ]
  },
  {
   "cell_type": "code",
   "execution_count": 4,
   "metadata": {},
   "outputs": [
    {
     "name": "stdout",
     "output_type": "stream",
     "text": [
      "Recommendation 1:\n",
      "- Implement a pricing strategy that takes into account the age of the car. Consider offering discounts or incentives for older cars to attract buyers who are looking for more affordable options.\n",
      "- Basis of the recommendation: The positive correlation between car price and year suggests that newer cars tend to have higher prices. By adjusting your pricing strategy based on the age of the car, you can potentially attract a wider range of customers.\n",
      "- Impact of the recommendation if implemented: By offering competitive prices for older cars, you can increase their attractiveness to potential buyers and potentially increase sales.\n",
      "\n",
      "Recommendation 2:\n",
      "- Highlight low mileage as a selling point in your marketing efforts. Emphasize the benefits of owning a car with lower mileage, such as better reliability and potentially lower maintenance costs.\n",
      "- Basis of the recommendation: The positive correlation between car price and mileage indicates that cars with lower mileage tend to have higher prices. By highlighting this feature, you can differentiate your cars from competitors and potentially justify higher prices.\n",
      "- Impact of the recommendation if implemented: By emphasizing low mileage as a selling point, you can potentially attract buyers who prioritize reliability and quality in their purchasing decisions. This can lead to increased interest in your cars and potentially higher sales.\n",
      "\n",
      "Recommendation 3:\n",
      "- Consider offering customization options for engine capacity to cater to different customer preferences. Provide choices for both smaller and larger engine capacities, allowing customers to select based on their specific needs and preferences.\n",
      "- Basis of the recommendation: The positive correlation between car price and engine capacity suggests that cars with larger engine capacities tend to have higher prices. By offering customization options, you can cater to different customer segments and potentially increase sales by meeting their specific requirements.\n",
      "- Impact of the recommendation if implemented: Offering customization options for engine capacity can attract customers who value performance or fuel efficiency, depending on their preferences. This flexibility can help differentiate your offerings from competitors' and potentially lead to increased sales.\n"
     ]
    }
   ],
   "source": [
    "recommendations = gen.recommendations(insights=insights)\n",
    "print(recommendations)"
   ]
  },
  {
   "cell_type": "code",
   "execution_count": 6,
   "metadata": {},
   "outputs": [
    {
     "name": "stdout",
     "output_type": "stream",
     "text": [
      "To-do 1: Create a list of older cars in your inventory (at least 30 cars) and determine the appropriate discounts or incentives to offer based on their age.\n",
      "\n",
      "To-do 2: Write down key selling points for cars with low mileage, highlighting the benefits of owning a car with lower mileage (e.g., reliability, potential cost savings).\n",
      "\n",
      "To-do 3: Speak to your marketing team to discuss how to effectively emphasize low mileage as a selling point in your marketing efforts.\n",
      "\n",
      "To-do 4: Setup 30 minutes to dive deep and analyze customer preferences regarding engine capacity. Determine the most popular choices for both smaller and larger engine capacities.\n",
      "\n",
      "To-do 5: Plan to offer customization options for engine capacity based on the analysis results. Discuss with your product development team on how to implement these options effectively.\n"
     ]
    }
   ],
   "source": [
    "tasks = gen.tasks(insights=insights, recommendations=recommendations)\n",
    "print(tasks)"
   ]
  }
 ],
 "metadata": {
  "kernelspec": {
   "display_name": "Python 3",
   "language": "python",
   "name": "python3"
  },
  "language_info": {
   "codemirror_mode": {
    "name": "ipython",
    "version": 3
   },
   "file_extension": ".py",
   "mimetype": "text/x-python",
   "name": "python",
   "nbconvert_exporter": "python",
   "pygments_lexer": "ipython3",
   "version": "3.11.6"
  }
 },
 "nbformat": 4,
 "nbformat_minor": 2
}
